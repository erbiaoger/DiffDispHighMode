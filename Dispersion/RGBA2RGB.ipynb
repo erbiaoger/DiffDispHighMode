{
 "cells": [
  {
   "cell_type": "code",
   "execution_count": 1,
   "metadata": {},
   "outputs": [],
   "source": [
    "from PIL import Image\n",
    "\n",
    "def chang2RGB(image, filename, mode=\"RGB\"):\n",
    "    if mode == \"RGB\":\n",
    "        # 将RGBA图像转换为RGB格式\n",
    "        rgb_image = image.convert(\"RGB\")\n",
    "        rgb_image.save(filename)  # 保存为RGB格式的PNG图片\n",
    "    elif mode == \"L\":\n",
    "        # 将RGBA图像转换为灰度图\n",
    "        gray_image = image.convert(\"L\")\n",
    "        gray_image.save(filename) # 保存为灰度图\n",
    "    \n",
    "    # print(filename.stem + \" has been saved.\")\n",
    "\n",
    "\n"
   ]
  },
  {
   "cell_type": "code",
   "execution_count": 2,
   "metadata": {},
   "outputs": [],
   "source": [
    "import pathlib\n",
    "\n",
    "files_rgb = pathlib.Path(\"/home/lty/MyProjects/Seismology/diffseis/dataset/demultiple/data_train/data\").rglob(\"*.png\")\n",
    "files_l = pathlib.Path(\"/home/lty/MyProjects/Seismology/diffseis/dataset/demultiple/data_train/labels\").rglob(\"*.png\")\n",
    "\n",
    "for file in sorted(files_rgb):\n",
    "    image = Image.open(file)\n",
    "    chang2RGB(image, file, mode=\"L\")\n",
    "\n",
    "for file in sorted(files_l):\n",
    "    image = Image.open(file)\n",
    "    chang2RGB(image, file, mode=\"L\")\n"
   ]
  },
  {
   "cell_type": "code",
   "execution_count": 3,
   "metadata": {},
   "outputs": [
    {
     "data": {
      "text/plain": [
       "4374"
      ]
     },
     "execution_count": 3,
     "metadata": {},
     "output_type": "execute_result"
    }
   ],
   "source": [
    "3 ** 7 * 2"
   ]
  },
  {
   "cell_type": "code",
   "execution_count": 4,
   "metadata": {},
   "outputs": [
    {
     "data": {
      "text/plain": [
       "'0.002'"
      ]
     },
     "execution_count": 4,
     "metadata": {},
     "output_type": "execute_result"
    }
   ],
   "source": [
    "a = 0.002\n",
    "\n",
    "c = f\"{a:.3f}\"\n",
    "c"
   ]
  },
  {
   "cell_type": "code",
   "execution_count": null,
   "metadata": {},
   "outputs": [],
   "source": []
  }
 ],
 "metadata": {
  "kernelspec": {
   "display_name": "ccfj",
   "language": "python",
   "name": "python3"
  },
  "language_info": {
   "codemirror_mode": {
    "name": "ipython",
    "version": 3
   },
   "file_extension": ".py",
   "mimetype": "text/x-python",
   "name": "python",
   "nbconvert_exporter": "python",
   "pygments_lexer": "ipython3",
   "version": "3.12.4"
  }
 },
 "nbformat": 4,
 "nbformat_minor": 2
}
