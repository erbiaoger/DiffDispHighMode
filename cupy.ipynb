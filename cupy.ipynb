{
 "cells": [
  {
   "cell_type": "code",
   "execution_count": 5,
   "metadata": {},
   "outputs": [
    {
     "name": "stdout",
     "output_type": "stream",
     "text": [
      "NumPy time: 2.22 s\n",
      "CuPy time: 0.33 s\n"
     ]
    }
   ],
   "source": [
    "import numpy as np\n",
    "import cupy as cp\n",
    "import time\n",
    "\n",
    "# NumPy 测试\n",
    "a = np.random.rand(10000, 10000)\n",
    "b = np.random.rand(10000, 10000)\n",
    "start = time.time()\n",
    "c = np.dot(a, b)\n",
    "print(f'NumPy time: {time.time() - start:.2f} s')\n",
    "\n",
    "# CuPy 测试\n",
    "a_gpu = cp.random.rand(10000, 10000)\n",
    "b_gpu = cp.random.rand(10000, 10000)\n",
    "start = time.time()\n",
    "c_gpu = cp.dot(a_gpu, b_gpu)\n",
    "print(f'CuPy time: {time.time() - start:.2f} s')"
   ]
  },
  {
   "cell_type": "code",
   "execution_count": null,
   "metadata": {},
   "outputs": [],
   "source": []
  }
 ],
 "metadata": {
  "kernelspec": {
   "display_name": "ccfj",
   "language": "python",
   "name": "python3"
  },
  "language_info": {
   "codemirror_mode": {
    "name": "ipython",
    "version": 3
   },
   "file_extension": ".py",
   "mimetype": "text/x-python",
   "name": "python",
   "nbconvert_exporter": "python",
   "pygments_lexer": "ipython3",
   "version": "3.12.5"
  }
 },
 "nbformat": 4,
 "nbformat_minor": 2
}
